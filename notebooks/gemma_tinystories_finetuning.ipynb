{
 "cells": [
  {
   "cell_type": "markdown",
   "metadata": {},
   "source": [
    "# Lightweight Fine-tuning: Gemma-2B on TinyStories\n",
    "\n",
    "This notebook demonstrates fine-tuning Google's Gemma-2B model on the TinyStories dataset using QLoRA. This is a lightweight example that should train quickly on most GPUs."
   ]
  },
  {
   "cell_type": "markdown",
   "metadata": {},
   "source": [
    "## 1. Setup and Installation\n",
    "\n",
    "First, check GPU availability and install dependencies."
   ]
  },
  {
   "cell_type": "code",
   "execution_count": null,
   "metadata": {},
   "outputs": [],
   "source": [
    "# Check GPU availability\n",
    "!nvidia-smi"
   ]
  },
  {
   "cell_type": "code",
   "execution_count": null,
   "metadata": {},
   "outputs": [],
   "source": [
    "# Clone the repository\n",
    "!git clone https://github.com/vmm/llm-trainer.git\n",
    "%cd llm-trainer"
   ]
  },
  {
   "cell_type": "code",
   "execution_count": null,
   "metadata": {},
   "outputs": [],
   "source": [
    "# Install dependencies\n",
    "!pip install -r requirements.txt"
   ]
  },
  {
   "cell_type": "code",
   "execution_count": null,
   "metadata": {},
   "outputs": [],
   "source": [
    "# Fix module import issues\n",
    "import os\n",
    "import sys\n",
    "\n",
    "# Check and fix the working directory\n",
    "if not os.path.exists('src'):\n",
    "    # If we're not in the repo root, try to find it\n",
    "    if os.path.exists('llm-trainer'):\n",
    "        %cd llm-trainer\n",
    "    else:\n",
    "        # If we can't find it, raise an error\n",
    "        raise FileNotFoundError(\"Cannot find repository root directory with 'src' folder\")\n",
    "\n",
    "# Add the current directory to Python's path\n",
    "sys.path.append('.')\n",
    "print(f\"Working directory: {os.getcwd()}\")\n",
    "print(f\"Python path includes current directory: {'./' in sys.path or '.' in sys.path}\")"
   ]
  },
  {
   "cell_type": "markdown",
   "metadata": {},
   "source": [
    "## 2. Authenticate with Hugging Face\n",
    "\n",
    "Authenticate to access the Gemma model from Hugging Face."
   ]
  },
  {
   "cell_type": "code",
   "execution_count": null,
   "metadata": {},
   "outputs": [],
   "source": [
    "# Authenticate with Hugging Face\n",
    "import os\n",
    "from huggingface_hub import login\n",
    "\n",
    "# Replace with your actual token\n",
    "HF_TOKEN = \"your_huggingface_token_here\"  \n",
    "\n",
    "# Log in to Hugging Face\n",
    "login(token=HF_TOKEN)\n",
    "\n",
    "# Set environment variable for other libraries\n",
    "os.environ[\"HUGGING_FACE_HUB_TOKEN\"] = HF_TOKEN\n",
    "os.environ[\"HF_TOKEN\"] = HF_TOKEN"
   ]
  },
  {
   "cell_type": "markdown",
   "metadata": {},
   "source": [
    "## 3. Process the TinyStories Dataset\n",
    "\n",
    "Process the dataset and prepare it for training."
   ]
  },
  {
   "cell_type": "code",
   "execution_count": null,
   "metadata": {},
   "outputs": [],
   "source": [
    "# Process the dataset\n",
    "!python -m src.data_processors.tinystories_processor --config configs/gemma_tinystories.yaml\n",
    "\n",
    "# Verify the processed dataset\n",
    "from datasets import load_from_disk\n",
    "\n",
    "# Load the processed dataset\n",
    "try:\n",
    "    dataset = load_from_disk(\"data/TinyStories_processed\")\n",
    "    \n",
    "    # Print info about the dataset\n",
    "    print(f\"Dataset splits: {dataset.keys()}\")\n",
    "    if 'train' in dataset:\n",
    "        print(f\"Train size: {len(dataset['train'])}\")\n",
    "    if 'validation' in dataset:\n",
    "        print(f\"Validation size: {len(dataset['validation'])}\")\n",
    "    \n",
    "    # See the first example\n",
    "    print(\"\\nExample data:\")\n",
    "    print(dataset[list(dataset.keys())[0]][0])\n",
    "except Exception as e:\n",
    "    print(f\"Error loading dataset: {e}\")"
   ]
  },
  {
   "cell_type": "markdown",
   "metadata": {},
   "source": [
    "## 4. Fine-tune with QLoRA\n",
    "\n",
    "Fine-tune the Gemma-2B model using QLoRA."
   ]
  },
  {
   "cell_type": "code",
   "execution_count": null,
   "metadata": {},
   "outputs": [],
   "source": [
    "# Clean up memory before training\n",
    "import gc\n",
    "import torch\n",
    "\n",
    "# Clear CUDA cache\n",
    "if torch.cuda.is_available():\n",
    "    torch.cuda.empty_cache()\n",
    "    print(\"CUDA cache cleared\")\n",
    "    \n",
    "# Run garbage collection\n",
    "gc.collect()\n",
    "print(\"Garbage collection completed\")\n",
    "\n",
    "# Show current GPU memory usage\n",
    "if torch.cuda.is_available():\n",
    "    print(f\"GPU memory allocated: {torch.cuda.memory_allocated() / 1024**2:.2f} MB\")\n",
    "    print(f\"GPU memory reserved: {torch.cuda.memory_reserved() / 1024**2:.2f} MB\")\n",
    "    \n",
    "# Print current GPU usage\n",
    "!nvidia-smi | grep MiB"
   ]
  },
  {
   "cell_type": "code",
   "execution_count": null,
   "metadata": {},
   "outputs": [],
   "source": [
    "# Start the training process\n",
    "print(\"Starting fine-tuning process (this should take 1-2 hours)...\")\n",
    "print(\"Model will be saved to ./output/gemma_tinystories\")\n",
    "\n",
    "!python -m src.trainers.qlora_trainer configs/gemma_tinystories.yaml"
   ]
  },
  {
   "cell_type": "markdown",
   "metadata": {},
   "source": [
    "## 5. Test the Fine-tuned Model\n",
    "\n",
    "Try out the fine-tuned model by generating some stories."
   ]
  },
  {
   "cell_type": "code",
   "execution_count": null,
   "metadata": {},
   "outputs": [],
   "source": [
    "from transformers import AutoModelForCausalLM, AutoTokenizer, pipeline\n",
    "from peft import PeftModel, PeftConfig\n",
    "\n",
    "# Load the adapter config\n",
    "config = PeftConfig.from_pretrained(\"./output/gemma_tinystories\")\n",
    "\n",
    "# Load base model with authentication\n",
    "base_model = AutoModelForCausalLM.from_pretrained(\n",
    "    config.base_model_name_or_path,\n",
    "    load_in_8bit=True,\n",
    "    device_map=\"auto\",\n",
    "    trust_remote_code=True,\n",
    "    token=HF_TOKEN\n",
    ")\n",
    "\n",
    "# Load adapter model\n",
    "model = PeftModel.from_pretrained(base_model, \"./output/gemma_tinystories\", is_trainable=False)\n",
    "\n",
    "# Load tokenizer\n",
    "tokenizer = AutoTokenizer.from_pretrained(\n",
    "    config.base_model_name_or_path, \n",
    "    trust_remote_code=True,\n",
    "    token=HF_TOKEN\n",
    ")\n",
    "if tokenizer.pad_token is None:\n",
    "    tokenizer.pad_token = tokenizer.eos_token\n",
    "\n",
    "# Create text generation pipeline\n",
    "pipe = pipeline(\n",
    "    \"text-generation\",\n",
    "    model=model,\n",
    "    tokenizer=tokenizer,\n",
    "    max_new_tokens=200,\n",
    "    do_sample=True,\n",
    "    temperature=0.7,\n",
    "    top_p=0.9,\n",
    ")"
   ]
  },
  {
   "cell_type": "code",
   "execution_count": null,
   "metadata": {},
   "outputs": [],
   "source": [
    "# Test the model with some story starters\n",
    "story_starters = [\n",
    "    \"Once upon a time, there was a little rabbit who\",\n",
    "    \"The small dog was very happy because\",\n",
    "    \"In a tiny house at the edge of the forest\"\n",
    "]\n",
    "\n",
    "for starter in story_starters:\n",
    "    print(f\"Prompt: {starter}\")\n",
    "    result = pipe(starter, return_full_text=True)[0][\"generated_text\"]\n",
    "    print(f\"Generated story:\\n{result}\")\n",
    "    print(\"-\" * 80)"
   ]
  },
  {
   "cell_type": "markdown",
   "metadata": {},
   "source": [
    "## 6. Compare with Base Model\n",
    "\n",
    "Compare the fine-tuned model with the base model."
   ]
  },
  {
   "cell_type": "code",
   "execution_count": null,
   "metadata": {},
   "outputs": [],
   "source": [
    "# Load the base model to compare\n",
    "base_model = AutoModelForCausalLM.from_pretrained(\n",
    "    \"google/gemma-2b-it\",\n",
    "    device_map=\"auto\",\n",
    "    load_in_8bit=True,\n",
    "    trust_remote_code=True,\n",
    "    token=HF_TOKEN\n",
    ")\n",
    "\n",
    "# Create a pipeline for the base model\n",
    "base_pipe = pipeline(\n",
    "    \"text-generation\",\n",
    "    model=base_model,\n",
    "    tokenizer=tokenizer,\n",
    "    max_new_tokens=200,\n",
    "    do_sample=True,\n",
    "    temperature=0.7,\n",
    "    top_p=0.9,\n",
    ")"
   ]
  },
  {
   "cell_type": "code",
   "execution_count": null,
   "metadata": {},
   "outputs": [],
   "source": [
    "# Compare base model and fine-tuned model\n",
    "test_prompt = \"Once upon a time, there was a little rabbit who\"\n",
    "\n",
    "print(\"BASE MODEL OUTPUT:\")\n",
    "base_result = base_pipe(test_prompt, return_full_text=True)[0][\"generated_text\"]\n",
    "print(base_result)\n",
    "\n",
    "print(\"\\n\" + \"-\"*80 + \"\\n\")\n",
    "\n",
    "print(\"FINE-TUNED MODEL OUTPUT:\")\n",
    "ft_result = pipe(test_prompt, return_full_text=True)[0][\"generated_text\"]\n",
    "print(ft_result)"
   ]
  },
  {
   "cell_type": "markdown",
   "metadata": {},
   "source": [
    "## 7. Save the Fine-tuned Model\n",
    "\n",
    "Package the fine-tuned model for reuse."
   ]
  },
  {
   "cell_type": "code",
   "execution_count": null,
   "metadata": {},
   "outputs": [],
   "source": [
    "# Create a zip file of the adapter\n",
    "import shutil\n",
    "\n",
    "adapter_path = \"./output/gemma_tinystories/adapter_model\"\n",
    "if os.path.exists(adapter_path):\n",
    "    shutil.make_archive(\"gemma_tinystories_adapter\", 'zip', adapter_path)\n",
    "    print(\"Adapter packaged as gemma_tinystories_adapter.zip\")\n",
    "else:\n",
    "    print(\"Adapter model not found.\")"
   ]
  },
  {
   "cell_type": "markdown",
   "metadata": {},
   "source": [
    "## 8. Summary\n",
    "\n",
    "This notebook demonstrated a lightweight fine-tuning of Gemma-2B on TinyStories data. Key highlights:\n",
    "\n",
    "1. Successfully fine-tuned Gemma-2B using QLoRA in 1-2 hours\n",
    "2. Used a small dataset subset for quick training\n",
    "3. Enabled proper validation during training\n",
    "4. Compared base model vs fine-tuned model outputs\n",
    "5. Packaged the adapter for reuse\n",
    "\n",
    "This approach can be adapted for other lightweight fine-tuning tasks."
   ]
  }
 ],
 "metadata": {
  "kernelspec": {
   "display_name": "Python 3",
   "language": "python",
   "name": "python3"
  },
  "language_info": {
   "codemirror_mode": {
    "name": "ipython",
    "version": 3
   },
   "file_extension": ".py",
   "mimetype": "text/x-python",
   "name": "python",
   "nbconvert_exporter": "python",
   "pygments_lexer": "ipython3",
   "version": "3.10.0"
  }
 },
 "nbformat": 4,
 "nbformat_minor": 4
}